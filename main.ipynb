{
  "nbformat": 4,
  "nbformat_minor": 0,
  "metadata": {
    "colab": {
      "provenance": [],
      "authorship_tag": "ABX9TyPjItGyTBNJbzdkUBaULwtQ",
      "include_colab_link": true
    },
    "kernelspec": {
      "name": "python3",
      "display_name": "Python 3"
    },
    "language_info": {
      "name": "python"
    }
  },
  "cells": [
    {
      "cell_type": "markdown",
      "metadata": {
        "id": "view-in-github",
        "colab_type": "text"
      },
      "source": [
        "<a href=\"https://colab.research.google.com/github/kevinknights29/Regression--Battery-Life-Prediction/blob/main/main.ipynb\" target=\"_parent\"><img src=\"https://colab.research.google.com/assets/colab-badge.svg\" alt=\"Open In Colab\"/></a>"
      ]
    },
    {
      "cell_type": "markdown",
      "source": [
        "# Dependencies"
      ],
      "metadata": {
        "id": "b6XQnp7LaJNh"
      }
    },
    {
      "cell_type": "code",
      "source": [
        "import requests\n",
        "import zipfile\n",
        "from pathlib import Path\n",
        "import scipy.io\n",
        "import pandas as pd\n",
        "import numpy as np"
      ],
      "metadata": {
        "id": "CWusXe3maI9E"
      },
      "execution_count": 200,
      "outputs": []
    },
    {
      "cell_type": "markdown",
      "source": [
        "## Data Availability"
      ],
      "metadata": {
        "id": "E_kjNklTaeqk"
      }
    },
    {
      "cell_type": "code",
      "execution_count": 201,
      "metadata": {
        "id": "-YsUX5NfzHZ3"
      },
      "outputs": [],
      "source": [
        "dataset_url = 'https://phm-datasets.s3.amazonaws.com/NASA/5.+Battery+Data+Set.zip'\n",
        "dataset_zip = \"5.+Battery+Data+Set.zip\"\n",
        "\n",
        "response = requests.get(dataset_url)\n",
        "with open(dataset_zip, \"wb\") as f:\n",
        "  f.write(response.content)"
      ]
    },
    {
      "cell_type": "code",
      "source": [
        "with zipfile.ZipFile(dataset_zip, \"r\") as f:\n",
        "    f.extractall(\".\")\n",
        "Path(dataset_zip).unlink()"
      ],
      "metadata": {
        "id": "u7qgHAwGj6SD"
      },
      "execution_count": 202,
      "outputs": []
    },
    {
      "cell_type": "code",
      "source": [
        "for zip in Path(\".\").rglob(\"*.zip\"):\n",
        "  with zipfile.ZipFile(zip, \"r\") as f:\n",
        "    output_folder = zip.parent / zip.stem\n",
        "    f.extractall(output_folder)\n",
        "  Path(zip).unlink()"
      ],
      "metadata": {
        "id": "GLv2UZIQlxrl"
      },
      "execution_count": 203,
      "outputs": []
    },
    {
      "cell_type": "markdown",
      "source": [
        "## Data Preparation"
      ],
      "metadata": {
        "id": "57yNrW8TY8qu"
      }
    },
    {
      "cell_type": "code",
      "source": [
        "  # Docs:\n",
        "  # inside a matrix we have the following structure\n",
        "  # [0][0][0][0][2][3][0][0][5]\n",
        "  #                          ^\n",
        "  #                        column\n",
        "  #                 ^\n",
        "  #                data\n",
        "  #              ^\n",
        "  #             type\n",
        "  # \n",
        "  # type: [charge | discharge | impedance]\n",
        "  # data structure\n",
        "  # columns if charge: [\"voltage_measured\", \"Current_measured\",\"Temperature_measured\",\"Current_charge\",\"Voltage_charge\",\"Time\"]\n",
        "  # columns if discharge: [\"voltage_measured\", \"Current_measured\",\"Temperature_measured\",\"Current_charge\",\"Voltage_charge\",\"Time\",\"Capacity\"]\n",
        "  # columns if impedance: [\"Sense_current\",\"Battery_current\",\"Current_ratio\",\"Battery_impedance\",\"Rectified_impedance\"\"Re\",\"Rct\"]"
      ],
      "metadata": {
        "id": "CbjLzZppY8PM"
      },
      "execution_count": 204,
      "outputs": []
    },
    {
      "cell_type": "code",
      "source": [
        "column_structure = {\n",
        "    \"discharge\": [\n",
        "      \"voltage_measured\",\n",
        "      \"current_measured\",\n",
        "      \"temperature_measured\",\n",
        "      \"current_charge\",\n",
        "      \"voltage_charge\",\n",
        "      \"time\",\n",
        "      \"capacity\",\n",
        "    ],\n",
        "    \"impedance\": [\n",
        "      \"sense_current\",\n",
        "      \"battery_current\",\n",
        "      \"current_ratio\",\n",
        "      \"battery_impedance\",\n",
        "      \"rectified_impedance\",\n",
        "      \"re\",\n",
        "      \"rct\",\n",
        "    ],\n",
        "    \"charge\": [\n",
        "     \"voltage_measured\",\n",
        "     \"current_measured\",\n",
        "     \"temperature_measured\",\n",
        "     \"current_charge\",\n",
        "     \"voltage_charge\",\n",
        "     \"time\",\n",
        "    ],\n",
        "}"
      ],
      "metadata": {
        "id": "HSd98R9ebFKU"
      },
      "execution_count": 217,
      "outputs": []
    },
    {
      "cell_type": "code",
      "source": [
        "def load_mat(path):\n",
        "    data_mat = scipy.io.loadmat(path)\n",
        "    data_key = list(data_mat.keys())[-1]\n",
        "    data_dict = {\n",
        "        data_key: {\n",
        "            \"discharge\": data_mat[data_key][0][0][0][0][0][3],\n",
        "            \"impedance\": data_mat[data_key][0][0][0][0][1][3],\n",
        "            \"charge\":    data_mat[data_key][0][0][0][0][2][3],\n",
        "        }\n",
        "    }\n",
        "    return data_key, data_dict"
      ],
      "metadata": {
        "id": "J4sSd3ZrcAEB"
      },
      "execution_count": 215,
      "outputs": []
    },
    {
      "cell_type": "code",
      "source": [
        "def convert_mat_to_df(mat, columns):\n",
        "  data_dict = {\n",
        "      column: pd.Series(mat[0][0][idx][0][:]) for idx, column in enumerate(columns)\n",
        "  }\n",
        "  data_df = pd.DataFrame(data=data_dict)\n",
        "  return data_df"
      ],
      "metadata": {
        "id": "pCovzuCOMCOT"
      },
      "execution_count": 207,
      "outputs": []
    },
    {
      "cell_type": "code",
      "source": [
        "mats = [mat for mat in Path(\".\").rglob(\"*.mat\")]\n",
        "mat = mats[0]\n",
        "mat_data_key, mat_data = load_mat(mat)\n",
        "mat_discharge_df = convert_mat_to_df(mat_data[mat_data_key][\"discharge\"], column_structure[\"discharge\"])"
      ],
      "metadata": {
        "id": "uS4Cy6h4ffpx"
      },
      "execution_count": 219,
      "outputs": []
    },
    {
      "cell_type": "code",
      "source": [
        "mat_discharge_df.head()"
      ],
      "metadata": {
        "colab": {
          "base_uri": "https://localhost:8080/",
          "height": 250
        },
        "id": "ebzErAvXi4X6",
        "outputId": "0e9729d6-7d9c-431f-f028-a92967f28d3b"
      },
      "execution_count": 220,
      "outputs": [
        {
          "output_type": "execute_result",
          "data": {
            "text/plain": [
              "   voltage_measured  current_measured  temperature_measured  current_charge  \\\n",
              "0          3.843735          0.001207              5.905007          0.0004   \n",
              "1          3.843497         -0.001267              5.921671          0.0002   \n",
              "2          3.335608         -1.987236              5.984983          1.9992   \n",
              "3          3.306284         -1.986549              6.070582          1.9992   \n",
              "4          3.281057         -1.988597              6.179706          1.9990   \n",
              "\n",
              "   voltage_charge    time  capacity  \n",
              "0           0.000   0.000     0.799  \n",
              "1           3.858   9.438       NaN  \n",
              "2           2.122  19.578       NaN  \n",
              "3           2.121  28.938       NaN  \n",
              "4           2.099  38.281       NaN  "
            ],
            "text/html": [
              "\n",
              "  <div id=\"df-8acc7477-aa63-4459-8240-356ebcf2416e\">\n",
              "    <div class=\"colab-df-container\">\n",
              "      <div>\n",
              "<style scoped>\n",
              "    .dataframe tbody tr th:only-of-type {\n",
              "        vertical-align: middle;\n",
              "    }\n",
              "\n",
              "    .dataframe tbody tr th {\n",
              "        vertical-align: top;\n",
              "    }\n",
              "\n",
              "    .dataframe thead th {\n",
              "        text-align: right;\n",
              "    }\n",
              "</style>\n",
              "<table border=\"1\" class=\"dataframe\">\n",
              "  <thead>\n",
              "    <tr style=\"text-align: right;\">\n",
              "      <th></th>\n",
              "      <th>voltage_measured</th>\n",
              "      <th>current_measured</th>\n",
              "      <th>temperature_measured</th>\n",
              "      <th>current_charge</th>\n",
              "      <th>voltage_charge</th>\n",
              "      <th>time</th>\n",
              "      <th>capacity</th>\n",
              "    </tr>\n",
              "  </thead>\n",
              "  <tbody>\n",
              "    <tr>\n",
              "      <th>0</th>\n",
              "      <td>3.843735</td>\n",
              "      <td>0.001207</td>\n",
              "      <td>5.905007</td>\n",
              "      <td>0.0004</td>\n",
              "      <td>0.000</td>\n",
              "      <td>0.000</td>\n",
              "      <td>0.799</td>\n",
              "    </tr>\n",
              "    <tr>\n",
              "      <th>1</th>\n",
              "      <td>3.843497</td>\n",
              "      <td>-0.001267</td>\n",
              "      <td>5.921671</td>\n",
              "      <td>0.0002</td>\n",
              "      <td>3.858</td>\n",
              "      <td>9.438</td>\n",
              "      <td>NaN</td>\n",
              "    </tr>\n",
              "    <tr>\n",
              "      <th>2</th>\n",
              "      <td>3.335608</td>\n",
              "      <td>-1.987236</td>\n",
              "      <td>5.984983</td>\n",
              "      <td>1.9992</td>\n",
              "      <td>2.122</td>\n",
              "      <td>19.578</td>\n",
              "      <td>NaN</td>\n",
              "    </tr>\n",
              "    <tr>\n",
              "      <th>3</th>\n",
              "      <td>3.306284</td>\n",
              "      <td>-1.986549</td>\n",
              "      <td>6.070582</td>\n",
              "      <td>1.9992</td>\n",
              "      <td>2.121</td>\n",
              "      <td>28.938</td>\n",
              "      <td>NaN</td>\n",
              "    </tr>\n",
              "    <tr>\n",
              "      <th>4</th>\n",
              "      <td>3.281057</td>\n",
              "      <td>-1.988597</td>\n",
              "      <td>6.179706</td>\n",
              "      <td>1.9990</td>\n",
              "      <td>2.099</td>\n",
              "      <td>38.281</td>\n",
              "      <td>NaN</td>\n",
              "    </tr>\n",
              "  </tbody>\n",
              "</table>\n",
              "</div>\n",
              "      <button class=\"colab-df-convert\" onclick=\"convertToInteractive('df-8acc7477-aa63-4459-8240-356ebcf2416e')\"\n",
              "              title=\"Convert this dataframe to an interactive table.\"\n",
              "              style=\"display:none;\">\n",
              "        \n",
              "  <svg xmlns=\"http://www.w3.org/2000/svg\" height=\"24px\"viewBox=\"0 0 24 24\"\n",
              "       width=\"24px\">\n",
              "    <path d=\"M0 0h24v24H0V0z\" fill=\"none\"/>\n",
              "    <path d=\"M18.56 5.44l.94 2.06.94-2.06 2.06-.94-2.06-.94-.94-2.06-.94 2.06-2.06.94zm-11 1L8.5 8.5l.94-2.06 2.06-.94-2.06-.94L8.5 2.5l-.94 2.06-2.06.94zm10 10l.94 2.06.94-2.06 2.06-.94-2.06-.94-.94-2.06-.94 2.06-2.06.94z\"/><path d=\"M17.41 7.96l-1.37-1.37c-.4-.4-.92-.59-1.43-.59-.52 0-1.04.2-1.43.59L10.3 9.45l-7.72 7.72c-.78.78-.78 2.05 0 2.83L4 21.41c.39.39.9.59 1.41.59.51 0 1.02-.2 1.41-.59l7.78-7.78 2.81-2.81c.8-.78.8-2.07 0-2.86zM5.41 20L4 18.59l7.72-7.72 1.47 1.35L5.41 20z\"/>\n",
              "  </svg>\n",
              "      </button>\n",
              "      \n",
              "  <style>\n",
              "    .colab-df-container {\n",
              "      display:flex;\n",
              "      flex-wrap:wrap;\n",
              "      gap: 12px;\n",
              "    }\n",
              "\n",
              "    .colab-df-convert {\n",
              "      background-color: #E8F0FE;\n",
              "      border: none;\n",
              "      border-radius: 50%;\n",
              "      cursor: pointer;\n",
              "      display: none;\n",
              "      fill: #1967D2;\n",
              "      height: 32px;\n",
              "      padding: 0 0 0 0;\n",
              "      width: 32px;\n",
              "    }\n",
              "\n",
              "    .colab-df-convert:hover {\n",
              "      background-color: #E2EBFA;\n",
              "      box-shadow: 0px 1px 2px rgba(60, 64, 67, 0.3), 0px 1px 3px 1px rgba(60, 64, 67, 0.15);\n",
              "      fill: #174EA6;\n",
              "    }\n",
              "\n",
              "    [theme=dark] .colab-df-convert {\n",
              "      background-color: #3B4455;\n",
              "      fill: #D2E3FC;\n",
              "    }\n",
              "\n",
              "    [theme=dark] .colab-df-convert:hover {\n",
              "      background-color: #434B5C;\n",
              "      box-shadow: 0px 1px 3px 1px rgba(0, 0, 0, 0.15);\n",
              "      filter: drop-shadow(0px 1px 2px rgba(0, 0, 0, 0.3));\n",
              "      fill: #FFFFFF;\n",
              "    }\n",
              "  </style>\n",
              "\n",
              "      <script>\n",
              "        const buttonEl =\n",
              "          document.querySelector('#df-8acc7477-aa63-4459-8240-356ebcf2416e button.colab-df-convert');\n",
              "        buttonEl.style.display =\n",
              "          google.colab.kernel.accessAllowed ? 'block' : 'none';\n",
              "\n",
              "        async function convertToInteractive(key) {\n",
              "          const element = document.querySelector('#df-8acc7477-aa63-4459-8240-356ebcf2416e');\n",
              "          const dataTable =\n",
              "            await google.colab.kernel.invokeFunction('convertToInteractive',\n",
              "                                                     [key], {});\n",
              "          if (!dataTable) return;\n",
              "\n",
              "          const docLinkHtml = 'Like what you see? Visit the ' +\n",
              "            '<a target=\"_blank\" href=https://colab.research.google.com/notebooks/data_table.ipynb>data table notebook</a>'\n",
              "            + ' to learn more about interactive tables.';\n",
              "          element.innerHTML = '';\n",
              "          dataTable['output_type'] = 'display_data';\n",
              "          await google.colab.output.renderOutput(dataTable, element);\n",
              "          const docLink = document.createElement('div');\n",
              "          docLink.innerHTML = docLinkHtml;\n",
              "          element.appendChild(docLink);\n",
              "        }\n",
              "      </script>\n",
              "    </div>\n",
              "  </div>\n",
              "  "
            ]
          },
          "metadata": {},
          "execution_count": 220
        }
      ]
    },
    {
      "cell_type": "code",
      "source": [
        "mat_discharge_df.describe()"
      ],
      "metadata": {
        "colab": {
          "base_uri": "https://localhost:8080/",
          "height": 364
        },
        "id": "1TYL3mx-i5sY",
        "outputId": "c9e6f365-1458-4bde-ed5f-f2cb1f362f59"
      },
      "execution_count": 221,
      "outputs": [
        {
          "output_type": "execute_result",
          "data": {
            "text/plain": [
              "       voltage_measured  current_measured  temperature_measured  \\\n",
              "count        280.000000        280.000000            280.000000   \n",
              "mean           3.243936         -1.171521             11.879033   \n",
              "std            0.310617          0.979766              3.374187   \n",
              "min            2.493079         -1.990840              5.905007   \n",
              "25%            3.037483         -1.988190              8.983963   \n",
              "50%            3.114535         -1.987056             11.538474   \n",
              "75%            3.590004         -0.000497             14.571119   \n",
              "max            3.843735          0.004282             18.024470   \n",
              "\n",
              "       current_charge  voltage_charge         time  capacity  \n",
              "count      280.000000      280.000000   280.000000     1.000  \n",
              "mean         1.178181        1.153443  1316.701154     0.799  \n",
              "std          0.985029        0.971125   770.607636       NaN  \n",
              "min          0.000200        0.000000     0.000000     0.799  \n",
              "25%          0.000400        0.000000   653.687250     0.799  \n",
              "50%          1.999000        1.791500  1306.508000     0.799  \n",
              "75%          1.999000        2.016750  1979.035500     0.799  \n",
              "max          1.999200        3.858000  2660.313000     0.799  "
            ],
            "text/html": [
              "\n",
              "  <div id=\"df-575125d2-3209-4deb-a674-fc67ffa9d0ef\">\n",
              "    <div class=\"colab-df-container\">\n",
              "      <div>\n",
              "<style scoped>\n",
              "    .dataframe tbody tr th:only-of-type {\n",
              "        vertical-align: middle;\n",
              "    }\n",
              "\n",
              "    .dataframe tbody tr th {\n",
              "        vertical-align: top;\n",
              "    }\n",
              "\n",
              "    .dataframe thead th {\n",
              "        text-align: right;\n",
              "    }\n",
              "</style>\n",
              "<table border=\"1\" class=\"dataframe\">\n",
              "  <thead>\n",
              "    <tr style=\"text-align: right;\">\n",
              "      <th></th>\n",
              "      <th>voltage_measured</th>\n",
              "      <th>current_measured</th>\n",
              "      <th>temperature_measured</th>\n",
              "      <th>current_charge</th>\n",
              "      <th>voltage_charge</th>\n",
              "      <th>time</th>\n",
              "      <th>capacity</th>\n",
              "    </tr>\n",
              "  </thead>\n",
              "  <tbody>\n",
              "    <tr>\n",
              "      <th>count</th>\n",
              "      <td>280.000000</td>\n",
              "      <td>280.000000</td>\n",
              "      <td>280.000000</td>\n",
              "      <td>280.000000</td>\n",
              "      <td>280.000000</td>\n",
              "      <td>280.000000</td>\n",
              "      <td>1.000</td>\n",
              "    </tr>\n",
              "    <tr>\n",
              "      <th>mean</th>\n",
              "      <td>3.243936</td>\n",
              "      <td>-1.171521</td>\n",
              "      <td>11.879033</td>\n",
              "      <td>1.178181</td>\n",
              "      <td>1.153443</td>\n",
              "      <td>1316.701154</td>\n",
              "      <td>0.799</td>\n",
              "    </tr>\n",
              "    <tr>\n",
              "      <th>std</th>\n",
              "      <td>0.310617</td>\n",
              "      <td>0.979766</td>\n",
              "      <td>3.374187</td>\n",
              "      <td>0.985029</td>\n",
              "      <td>0.971125</td>\n",
              "      <td>770.607636</td>\n",
              "      <td>NaN</td>\n",
              "    </tr>\n",
              "    <tr>\n",
              "      <th>min</th>\n",
              "      <td>2.493079</td>\n",
              "      <td>-1.990840</td>\n",
              "      <td>5.905007</td>\n",
              "      <td>0.000200</td>\n",
              "      <td>0.000000</td>\n",
              "      <td>0.000000</td>\n",
              "      <td>0.799</td>\n",
              "    </tr>\n",
              "    <tr>\n",
              "      <th>25%</th>\n",
              "      <td>3.037483</td>\n",
              "      <td>-1.988190</td>\n",
              "      <td>8.983963</td>\n",
              "      <td>0.000400</td>\n",
              "      <td>0.000000</td>\n",
              "      <td>653.687250</td>\n",
              "      <td>0.799</td>\n",
              "    </tr>\n",
              "    <tr>\n",
              "      <th>50%</th>\n",
              "      <td>3.114535</td>\n",
              "      <td>-1.987056</td>\n",
              "      <td>11.538474</td>\n",
              "      <td>1.999000</td>\n",
              "      <td>1.791500</td>\n",
              "      <td>1306.508000</td>\n",
              "      <td>0.799</td>\n",
              "    </tr>\n",
              "    <tr>\n",
              "      <th>75%</th>\n",
              "      <td>3.590004</td>\n",
              "      <td>-0.000497</td>\n",
              "      <td>14.571119</td>\n",
              "      <td>1.999000</td>\n",
              "      <td>2.016750</td>\n",
              "      <td>1979.035500</td>\n",
              "      <td>0.799</td>\n",
              "    </tr>\n",
              "    <tr>\n",
              "      <th>max</th>\n",
              "      <td>3.843735</td>\n",
              "      <td>0.004282</td>\n",
              "      <td>18.024470</td>\n",
              "      <td>1.999200</td>\n",
              "      <td>3.858000</td>\n",
              "      <td>2660.313000</td>\n",
              "      <td>0.799</td>\n",
              "    </tr>\n",
              "  </tbody>\n",
              "</table>\n",
              "</div>\n",
              "      <button class=\"colab-df-convert\" onclick=\"convertToInteractive('df-575125d2-3209-4deb-a674-fc67ffa9d0ef')\"\n",
              "              title=\"Convert this dataframe to an interactive table.\"\n",
              "              style=\"display:none;\">\n",
              "        \n",
              "  <svg xmlns=\"http://www.w3.org/2000/svg\" height=\"24px\"viewBox=\"0 0 24 24\"\n",
              "       width=\"24px\">\n",
              "    <path d=\"M0 0h24v24H0V0z\" fill=\"none\"/>\n",
              "    <path d=\"M18.56 5.44l.94 2.06.94-2.06 2.06-.94-2.06-.94-.94-2.06-.94 2.06-2.06.94zm-11 1L8.5 8.5l.94-2.06 2.06-.94-2.06-.94L8.5 2.5l-.94 2.06-2.06.94zm10 10l.94 2.06.94-2.06 2.06-.94-2.06-.94-.94-2.06-.94 2.06-2.06.94z\"/><path d=\"M17.41 7.96l-1.37-1.37c-.4-.4-.92-.59-1.43-.59-.52 0-1.04.2-1.43.59L10.3 9.45l-7.72 7.72c-.78.78-.78 2.05 0 2.83L4 21.41c.39.39.9.59 1.41.59.51 0 1.02-.2 1.41-.59l7.78-7.78 2.81-2.81c.8-.78.8-2.07 0-2.86zM5.41 20L4 18.59l7.72-7.72 1.47 1.35L5.41 20z\"/>\n",
              "  </svg>\n",
              "      </button>\n",
              "      \n",
              "  <style>\n",
              "    .colab-df-container {\n",
              "      display:flex;\n",
              "      flex-wrap:wrap;\n",
              "      gap: 12px;\n",
              "    }\n",
              "\n",
              "    .colab-df-convert {\n",
              "      background-color: #E8F0FE;\n",
              "      border: none;\n",
              "      border-radius: 50%;\n",
              "      cursor: pointer;\n",
              "      display: none;\n",
              "      fill: #1967D2;\n",
              "      height: 32px;\n",
              "      padding: 0 0 0 0;\n",
              "      width: 32px;\n",
              "    }\n",
              "\n",
              "    .colab-df-convert:hover {\n",
              "      background-color: #E2EBFA;\n",
              "      box-shadow: 0px 1px 2px rgba(60, 64, 67, 0.3), 0px 1px 3px 1px rgba(60, 64, 67, 0.15);\n",
              "      fill: #174EA6;\n",
              "    }\n",
              "\n",
              "    [theme=dark] .colab-df-convert {\n",
              "      background-color: #3B4455;\n",
              "      fill: #D2E3FC;\n",
              "    }\n",
              "\n",
              "    [theme=dark] .colab-df-convert:hover {\n",
              "      background-color: #434B5C;\n",
              "      box-shadow: 0px 1px 3px 1px rgba(0, 0, 0, 0.15);\n",
              "      filter: drop-shadow(0px 1px 2px rgba(0, 0, 0, 0.3));\n",
              "      fill: #FFFFFF;\n",
              "    }\n",
              "  </style>\n",
              "\n",
              "      <script>\n",
              "        const buttonEl =\n",
              "          document.querySelector('#df-575125d2-3209-4deb-a674-fc67ffa9d0ef button.colab-df-convert');\n",
              "        buttonEl.style.display =\n",
              "          google.colab.kernel.accessAllowed ? 'block' : 'none';\n",
              "\n",
              "        async function convertToInteractive(key) {\n",
              "          const element = document.querySelector('#df-575125d2-3209-4deb-a674-fc67ffa9d0ef');\n",
              "          const dataTable =\n",
              "            await google.colab.kernel.invokeFunction('convertToInteractive',\n",
              "                                                     [key], {});\n",
              "          if (!dataTable) return;\n",
              "\n",
              "          const docLinkHtml = 'Like what you see? Visit the ' +\n",
              "            '<a target=\"_blank\" href=https://colab.research.google.com/notebooks/data_table.ipynb>data table notebook</a>'\n",
              "            + ' to learn more about interactive tables.';\n",
              "          element.innerHTML = '';\n",
              "          dataTable['output_type'] = 'display_data';\n",
              "          await google.colab.output.renderOutput(dataTable, element);\n",
              "          const docLink = document.createElement('div');\n",
              "          docLink.innerHTML = docLinkHtml;\n",
              "          element.appendChild(docLink);\n",
              "        }\n",
              "      </script>\n",
              "    </div>\n",
              "  </div>\n",
              "  "
            ]
          },
          "metadata": {},
          "execution_count": 221
        }
      ]
    },
    {
      "cell_type": "code",
      "source": [
        "mat_discharge_df.info()"
      ],
      "metadata": {
        "colab": {
          "base_uri": "https://localhost:8080/"
        },
        "id": "II8ody2VjH4B",
        "outputId": "8453abad-7953-433f-9ef7-a12e4c22eeec"
      },
      "execution_count": 222,
      "outputs": [
        {
          "output_type": "stream",
          "name": "stdout",
          "text": [
            "<class 'pandas.core.frame.DataFrame'>\n",
            "RangeIndex: 280 entries, 0 to 279\n",
            "Data columns (total 7 columns):\n",
            " #   Column                Non-Null Count  Dtype  \n",
            "---  ------                --------------  -----  \n",
            " 0   voltage_measured      280 non-null    float64\n",
            " 1   current_measured      280 non-null    float64\n",
            " 2   temperature_measured  280 non-null    float64\n",
            " 3   current_charge        280 non-null    float64\n",
            " 4   voltage_charge        280 non-null    float64\n",
            " 5   time                  280 non-null    float64\n",
            " 6   capacity              1 non-null      float64\n",
            "dtypes: float64(7)\n",
            "memory usage: 15.4 KB\n"
          ]
        }
      ]
    }
  ]
}